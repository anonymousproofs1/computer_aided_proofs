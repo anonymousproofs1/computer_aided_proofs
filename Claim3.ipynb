{
 "cells": [
  {
   "cell_type": "code",
   "execution_count": 1,
   "id": "69c36eb4-f8d0-40a7-811e-a8e9e4f0be01",
   "metadata": {
    "execution": {
     "iopub.execute_input": "2023-09-25T19:31:46.356000-04:00",
     "iopub.status.busy": "2023-09-25T19:31:45.859000-04:00",
     "iopub.status.idle": "2023-09-25T19:32:12.112000-04:00",
     "shell.execute_reply": "2023-09-25T19:32:12.047000-04:00"
    },
    "tags": []
   },
   "outputs": [],
   "source": [
    "using CSV\n",
    "using DataFrames\n",
    "using JuMP\n",
    "using Plots\n",
    "using Random\n",
    "using Statistics\n",
    "using LinearAlgebra\n",
    "using Distributions\n",
    "using BipartiteMatching\n",
    "using Gurobi\n",
    "using LinearAlgebra\n",
    "using SymPy\n",
    "using NLsolve\n",
    "using LaTeXStrings"
   ]
  },
  {
   "cell_type": "markdown",
   "id": "1356f63b-12a2-45ee-88af-e1266f9f8159",
   "metadata": {},
   "source": [
    "# Proof of Claim 3"
   ]
  },
  {
   "cell_type": "markdown",
   "id": "894c242c-21ca-44cb-a242-b3bc0cc8cb39",
   "metadata": {},
   "source": [
    "### Goal\n",
    "The notebook aims to verify if the lower bound of $f_1'(x_1)$ exceeds $1$ within each set [alphaf, alphaf + delta1) $\\times$ [alpha,alpha + delta1) $\\times$ [x1,x1 + delta2) in the claimed region.\n",
    "This lower bound assists in verifying the uniqueness of the solution for the original problem.\n",
    "\n",
    "### Arguments\n",
    "- `x1`: The value of $x_1$.\n",
    "- `alphaf`: Value of $\\alpha^f$.\n",
    "- `alpha`: Value of $\\alpha$.\n",
    "- `delta1` and `delta2`: Small positive increments.\n",
    "\n",
    "### Functions\n",
    "- `lower_bound_derivative(x1, alphaf, alpha, delta1, delta2)` returns the computed lower bound of the derivative within the set [alphaf, alphaf + delta1) $\\times$ [alpha,alpha + delta1) $\\times$ [x1,x1 + delta2).\n",
    "- `verify_unique_solution(alphaf, alpha, delta1, delta2)` returns whether the lower bound > 1.\n",
    "- `iterate_alphaf_alpha(delta1, delta2)` examines all alphaf, alpha and x1 within the claimed region.\n",
    "\n",
    "### Outputs\n",
    "- `iterate_alphaf_alpha(delta1, delta2)` should return nothing if all alphaf, alpha and x_1 pass the verification. This is indeed observed when delta1 = delta2 = 0.01."
   ]
  },
  {
   "cell_type": "code",
   "execution_count": 39,
   "id": "0a890c80-c508-4aed-a6d4-3b1bfbe6c5c5",
   "metadata": {
    "execution": {
     "iopub.execute_input": "2023-09-26T17:24:07.011000-04:00",
     "iopub.status.busy": "2023-09-26T17:24:07.011000-04:00",
     "iopub.status.idle": "2023-09-26T17:24:07.020000-04:00",
     "shell.execute_reply": "2023-09-26T17:24:07.020000-04:00"
    },
    "tags": []
   },
   "outputs": [
    {
     "data": {
      "text/plain": [
       "iterate_alphaf_alpha (generic function with 1 method)"
      ]
     },
     "execution_count": 39,
     "metadata": {},
     "output_type": "execute_result"
    }
   ],
   "source": [
    "# This function computes the lower bound of the derivative of the function f_1(x_1).\n",
    "function lower_bound_derivative(x1, alphaf, alpha, delta1, delta2)\n",
    "    if x1 == 0\n",
    "        return exp(-(1/2) * (alpha + alphaf) * x1 + 2 * (alpha+delta1) * (alphaf+delta1) * (x1+delta2\n",
    "                ) / (alpha + alphaf)+ (2 * alpha * log(x1+delta2)) / (alpha + alphaf+2*delta1)\n",
    "                ) * 1/2 * (-alpha - alphaf-2*delta1)+ (\n",
    "                2 * (alphaf + 1/(x1+delta2))) / (alpha + alphaf+2*delta1)\n",
    "    else\n",
    "        return exp(-(1/2) * (alpha + alphaf) * x1 + 2 * (alpha+delta1) * (alphaf+delta1) * (x1+delta2\n",
    "                ) / (alpha + alphaf)+ (2 * alpha * log(x1+delta2)) / (alpha + alphaf+2*delta1)\n",
    "                ) * 1/2 * (-alpha - alphaf-2*delta1)+exp(-(1/2) * (alpha + alphaf+2*delta1) * (x1+delta2\n",
    "                ) + 2 * (alpha) * (alphaf) * (x1) / (alpha + alphaf+2*delta1)+ (\n",
    "                2 * (alpha+delta1) * log(x1)) / (alpha + alphaf)) * (\n",
    "                2 * alpha * (alphaf + 1/(x1+delta2)) / (alpha + alphaf+2*delta1)) + (\n",
    "                2 * (alphaf + 1/(x1+delta2))) / (alpha + alphaf+2*delta1)\n",
    "    end\n",
    "end\n",
    "\n",
    "# This function returns a boolean indicating whether the derivative's lower bound > 1 within each interval.\n",
    "function verify_unique_solution(alphaf, alpha, delta1, delta2)\n",
    "    \n",
    "    x_intervals = 0:delta2:1.0\n",
    "    for i in 1:length(x_intervals)-1\n",
    "        x1 = x_intervals[i]\n",
    "        x2 = x_intervals[i+1]\n",
    "        f_prime_lower_bound = lower_bound_derivative(x1, alphaf, alpha, delta1, delta2)\n",
    "        \n",
    "        if f_prime_lower_bound <= 1\n",
    "            return false, \"f' <= 1 in interval [$x1, $x2]\"\n",
    "        end\n",
    "    end\n",
    "    \n",
    "    return true, \"The equation has a unique solution for x.\"\n",
    "end\n",
    "\n",
    "# This function iterates over alphaf and alpha, printing out instances where the derivative's lower bound <= 1.\n",
    "function iterate_alphaf_alpha(delta1, delta2)\n",
    "    alphaf_range, alpha_range = 0.0:delta1:exp(1)+delta1, 0.0:delta1:exp(1)+delta1\n",
    "    alphaf_range, alpha_range = collect(alphaf_range), collect(alpha_range)\n",
    "    alphaf_range[1] = 0.0001\n",
    "    alpha_range[1] = 0.0001\n",
    "    for alphaf in alphaf_range\n",
    "        for alpha in alpha_range\n",
    "            if 0 <= alpha <= alphaf && alpha + alphaf <= exp(1)\n",
    "                result, message = verify_unique_solution(alphaf, alpha, delta1, delta2)\n",
    "                if result == false\n",
    "                    print(\"alphaf: \",alphaf,\"\\t alpha: \",alpha,\"\\t result: \",result,'\\n')\n",
    "                end\n",
    "            end\n",
    "        end\n",
    "    end\n",
    "end\n"
   ]
  },
  {
   "cell_type": "code",
   "execution_count": 40,
   "id": "74b12283-ef65-4651-a44c-6d7e24072c98",
   "metadata": {
    "execution": {
     "iopub.execute_input": "2023-09-26T17:24:07.602000-04:00",
     "iopub.status.busy": "2023-09-26T17:24:07.602000-04:00",
     "iopub.status.idle": "2023-09-26T17:24:07.736000-04:00",
     "shell.execute_reply": "2023-09-26T17:24:07.735000-04:00"
    },
    "tags": []
   },
   "outputs": [],
   "source": [
    "# Specify precision values\n",
    "delta1, delta2 = 0.01, 0.01\n",
    "\n",
    "# Iterate over alphaf and alpha within the claimed region: nothing is returned if all alphaf, alpha and x_1 pass the verification\n",
    "iterate_alphaf_alpha(delta1, delta2)"
   ]
  },
  {
   "cell_type": "code",
   "execution_count": null,
   "id": "2a7ef08d-0bf3-45d4-912f-38e366182698",
   "metadata": {},
   "outputs": [],
   "source": []
  }
 ],
 "metadata": {
  "kernelspec": {
   "display_name": "Julia 1.8.3",
   "language": "julia",
   "name": "julia-1.8"
  },
  "language_info": {
   "file_extension": ".jl",
   "mimetype": "application/julia",
   "name": "julia",
   "version": "1.8.3"
  }
 },
 "nbformat": 4,
 "nbformat_minor": 5
}
