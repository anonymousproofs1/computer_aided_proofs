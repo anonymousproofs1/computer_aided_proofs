{
 "cells": [
  {
   "cell_type": "code",
   "execution_count": 1,
   "id": "4d130211-2bbc-418c-b050-ebb781fdc170",
   "metadata": {
    "execution": {
     "iopub.execute_input": "2023-10-31T14:46:21.396000-04:00",
     "iopub.status.busy": "2023-10-31T14:46:20.881000-04:00",
     "iopub.status.idle": "2023-10-31T14:46:47.513000-04:00",
     "shell.execute_reply": "2023-10-31T14:46:47.448000-04:00"
    },
    "tags": []
   },
   "outputs": [],
   "source": [
    "using CSV\n",
    "using DataFrames\n",
    "using JuMP\n",
    "using Plots\n",
    "using Random\n",
    "using Statistics\n",
    "using LinearAlgebra\n",
    "using Distributions\n",
    "using BipartiteMatching\n",
    "using Gurobi\n",
    "using LinearAlgebra\n",
    "using SymPy\n",
    "using NLsolve\n",
    "using LaTeXStrings\n"
   ]
  },
  {
   "cell_type": "markdown",
   "id": "3fc297c7-7a7f-48ab-9e3d-7fb6a957e69e",
   "metadata": {},
   "source": [
    "# Proof of Theorem 4"
   ]
  },
  {
   "cell_type": "markdown",
   "id": "75c6e6cf-fbf3-4222-8c33-e497e363d5d4",
   "metadata": {},
   "source": [
    "### Goal\n",
    "The notebook aims to verify if $$1-(1-B) \\cdot e^{-0.01} < (1-(B-\\delta)/2) \\phi(B-\\delta) + (B-\\delta) - 0.0001$$ within each set $[B, B + \\delta) \\subseteq [0.4,0.8]$. That is, we verify $$(1-B) \\cdot e^{-0.01} + (1-(B-\\delta)/2) \\phi(B-\\delta) - 1 + (B-\\delta) - 0.0001 > 0$$ within each set $[B, B + \\delta) \\subseteq [0.4,0.8]$.\n",
    "\n",
    "### Arguments\n",
    "- `x_lb` `x_ub`: The respective lower and upper bounds of $x$.\n",
    "- `alphaf` or `alphaf_val`: Value of $\\alpha^f$.\n",
    "- `alpha` or `alpha_val`: Value of $\\alpha$.\n",
    "- `delta` or `delta_val`: Small positive increment.\n",
    "\n",
    "### Functions\n",
    "- `equation_x!(F, x, alphaf_val, alpha_val)` returns the numerical solutions of $x, x_1$ and $x_2$. `lb_comparison` uses these values to build the lower bound $\\phi(B-\\delta)$ for given $B$.\n",
    "- `comp_f_func(alphaf_val, alpha_val)` returns the value of lb_comparison.\n",
    "- `calculate_lb_comparison_matrix(delta_val)` examines all B values within the claimed region.\n",
    "\n",
    "### Outputs\n",
    "- `calculate_lb_comparison_matrix(delta_val)` should print nothing if all values of B pass the verification. This is indeed observed when delta = 0.0001."
   ]
  },
  {
   "cell_type": "code",
   "execution_count": 58,
   "id": "6fdfbf21-38be-4f57-9281-8a9f6143274c",
   "metadata": {
    "execution": {
     "iopub.execute_input": "2023-10-31T21:03:43.902000-04:00",
     "iopub.status.busy": "2023-10-31T21:03:43.901000-04:00",
     "iopub.status.idle": "2023-10-31T21:03:43.914000-04:00",
     "shell.execute_reply": "2023-10-31T21:03:43.913000-04:00"
    },
    "tags": []
   },
   "outputs": [
    {
     "data": {
      "text/plain": [
       "calculate_lb_comparison_matrix (generic function with 1 method)"
      ]
     },
     "execution_count": 58,
     "metadata": {},
     "output_type": "execute_result"
    }
   ],
   "source": [
    "#### Define an expression to compute the lower bound of mu(1,0)\n",
    "@vars alphaf alpha x_lb x_ub\n",
    "lb_comparison = 2-x_ub-exp(-(alphaf+alpha)*x_lb)*(1+(alphaf+alpha)*x_ub)\n",
    "\n",
    "# Define a Julia function to solve x.\n",
    "function equation_x!(F, x, alphaf_val, alpha_val)\n",
    "    F[1] = exp(-(alphaf_val + alpha_val)*x[1]) - x[1]\n",
    "end\n",
    "\n",
    "# Define a Julia function to compute phi.\n",
    "tolerance = 1e-8\n",
    "function comp_f_func(alphaf_val, alpha_val)\n",
    "    x_sol = nlsolve((F, x) -> equation_x!(F, x, alphaf_val, alpha_val), [0.2], autodiff=:forward, ftol=tolerance).zero[1]\n",
    "    x_sol_ub, x_sol_lb = x_sol+tolerance, x_sol-tolerance\n",
    "    lb_comparison_val = subs(lb_comparison, (alphaf, alphaf_val), (alpha, alpha_val), \n",
    "        (x_lb, x_sol_lb), (x_ub, x_sol_ub))\n",
    "    return lb_comparison_val\n",
    "end\n",
    "\n",
    "# This function iterates over B, printing out cases where the inequality is not satisfied.\n",
    "function calculate_lb_comparison_matrix(delta_val)\n",
    "    \n",
    "    budget_range = 0.4:delta_val:0.8\n",
    "\n",
    "    for (i, budget) in enumerate(budget_range)\n",
    "        alphaf_val = 0.009*(1-(budget-delta_val)/2)\n",
    "        alpha_val = 0.0009*(1-(budget-delta_val)/2)\n",
    "        comparison = (1-budget)*exp(-0.01) + (1-(budget-delta_val)/2)*comp_f_func(alphaf_val, alpha_val) - 1 + (budget-delta_val) - 0.0001\n",
    "        if comparison <= 0\n",
    "            println(budget, \"\\t\", comparison)\n",
    "        end\n",
    "    end\n",
    "    \n",
    "    return \n",
    "end\n"
   ]
  },
  {
   "cell_type": "code",
   "execution_count": 59,
   "id": "f77a3fdc-ac35-4f93-9c76-5598c7c2ba58",
   "metadata": {
    "execution": {
     "iopub.execute_input": "2023-10-31T21:03:44.091000-04:00",
     "iopub.status.busy": "2023-10-31T21:03:44.091000-04:00",
     "iopub.status.idle": "2023-10-31T21:04:08.574000-04:00",
     "shell.execute_reply": "2023-10-31T21:04:08.574000-04:00"
    },
    "tags": []
   },
   "outputs": [],
   "source": [
    "# delta = 0.0001: runtime ~ 1 min\n",
    "delta_val = 0.0001\n",
    "results_matrix = calculate_lb_comparison_matrix(delta_val)"
   ]
  },
  {
   "cell_type": "code",
   "execution_count": null,
   "id": "97d2d2bb-e20f-4147-bc98-bedbb9412703",
   "metadata": {},
   "outputs": [],
   "source": []
  }
 ],
 "metadata": {
  "kernelspec": {
   "display_name": "Julia 1.8.3",
   "language": "julia",
   "name": "julia-1.8"
  },
  "language_info": {
   "file_extension": ".jl",
   "mimetype": "application/julia",
   "name": "julia",
   "version": "1.8.3"
  }
 },
 "nbformat": 4,
 "nbformat_minor": 5
}
