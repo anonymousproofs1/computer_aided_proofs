{
 "cells": [
  {
   "cell_type": "code",
   "execution_count": 1,
   "id": "4d130211-2bbc-418c-b050-ebb781fdc170",
   "metadata": {
    "execution": {
     "iopub.execute_input": "2023-12-08T13:17:10.999000-05:00",
     "iopub.status.busy": "2023-12-08T13:17:10.516000-05:00",
     "iopub.status.idle": "2023-12-08T13:17:39.057000-05:00",
     "shell.execute_reply": "2023-12-08T13:17:38.987000-05:00"
    },
    "tags": []
   },
   "outputs": [],
   "source": [
    "using CSV\n",
    "using DataFrames\n",
    "using JuMP\n",
    "using Plots\n",
    "using Random\n",
    "using Statistics\n",
    "using LinearAlgebra\n",
    "using Distributions\n",
    "using BipartiteMatching\n",
    "using Gurobi\n",
    "using LinearAlgebra\n",
    "using SymPy\n",
    "using NLsolve\n",
    "using LaTeXStrings\n"
   ]
  },
  {
   "cell_type": "markdown",
   "id": "3fc297c7-7a7f-48ab-9e3d-7fb6a957e69e",
   "metadata": {},
   "source": [
    "# Proof of Theorem 4"
   ]
  },
  {
   "cell_type": "markdown",
   "id": "75c6e6cf-fbf3-4222-8c33-e497e363d5d4",
   "metadata": {},
   "source": [
    "### Goal\n",
    "The notebook aims to verify if $$1-(1-B) \\cdot e^{-2 \\alpha} < 2(1-B/2) \\left[1-(1-(B-\\delta)/2)\\alpha - e^{-2(\\alpha-\\delta)(1-B/2)}\\right] + (B-\\delta) - 0.0001$$ for $B \\in \\{0.4000,0.4001,...,0.7999,0.8000\\}, \\alpha \\in \\{0.0100,0.0101,...,0.0499,0.0500\\}$. That is, we verify $$(1-B) \\cdot e^{-2 \\alpha} + 2(1-B/2) \\left[1-(1-(B-\\delta)/2)\\alpha - e^{-2(\\alpha-\\delta)(1-B/2)}\\right]- 1 + (B-\\delta) - 0.0001 > 0$$ for $B \\in \\{0.4000,0.4001,...,0.7999,0.8000\\}, \\alpha \\in \\{0.0100,0.0101,...,0.0499,0.0500\\}$.\n",
    "\n",
    "### Arguments\n",
    "- `alpha`: Value of $\\alpha$.\n",
    "- `B`: Value of $B$.\n",
    "- `delta`: Small positive increment $\\delta$.\n",
    "\n",
    "### Functions\n",
    "- `comp_f_func(B, alpha, delta)` returns the local lower bound of $\\mu(B/2,B/2) - \\mu(B,0)$.\n",
    "- `calculate_lb_comparison_matrix(delta)` examines all $B$ and $\\alpha$ values within the claimed region.\n",
    "\n",
    "### Outputs\n",
    "- `calculate_lb_comparison_matrix(delta)` should print nothing if all values of $B$ and $\\alpha$ pass the verification. This is indeed observed when delta = 0.0001."
   ]
  },
  {
   "cell_type": "code",
   "execution_count": 4,
   "id": "6fdfbf21-38be-4f57-9281-8a9f6143274c",
   "metadata": {
    "execution": {
     "iopub.execute_input": "2023-12-08T13:21:54.311000-05:00",
     "iopub.status.busy": "2023-12-08T13:21:54.310000-05:00",
     "iopub.status.idle": "2023-12-08T13:21:54.317000-05:00",
     "shell.execute_reply": "2023-12-08T13:21:54.317000-05:00"
    },
    "tags": []
   },
   "outputs": [
    {
     "data": {
      "text/plain": [
       "calculate_lb_comparison_matrix (generic function with 1 method)"
      ]
     },
     "execution_count": 4,
     "metadata": {},
     "output_type": "execute_result"
    }
   ],
   "source": [
    "# Define a Julia function to compute local lower bound of mu(B/2,B/2) - mu(B,0)\n",
    "function comp_f_func(B, alpha, delta)\n",
    "    lb_comparison_val = (1-B)*exp(-2*alpha) + 2*(1-B/2)*(1-(1-(B-delta)/2)*alpha-exp(-2*(alpha-delta)*(1-B/2))) - 1 + (B-delta) - 0.0001\n",
    "    return lb_comparison_val\n",
    "end\n",
    "\n",
    "# This function iterates over B and alpha, printing out cases where the inequality is not satisfied.\n",
    "function calculate_lb_comparison_matrix(delta)\n",
    "    \n",
    "    budget_range = 0.4:delta:0.8\n",
    "    alpha_range = 0.01:delta:0.05\n",
    "\n",
    "    for (i, B) in enumerate(budget_range)\n",
    "        for (j, alpha) in enumerate(alpha_range)\n",
    "            comparison = comp_f_func(B, alpha, delta)\n",
    "            if comparison <= 0\n",
    "                println(B, \"\\t\", comparison)\n",
    "            end\n",
    "        end\n",
    "    end\n",
    "    return \n",
    "end\n"
   ]
  },
  {
   "cell_type": "code",
   "execution_count": 5,
   "id": "f77a3fdc-ac35-4f93-9c76-5598c7c2ba58",
   "metadata": {
    "execution": {
     "iopub.execute_input": "2023-12-08T13:21:55.097000-05:00",
     "iopub.status.busy": "2023-12-08T13:21:55.097000-05:00",
     "iopub.status.idle": "2023-12-08T13:21:55.230000-05:00",
     "shell.execute_reply": "2023-12-08T13:21:55.230000-05:00"
    },
    "tags": []
   },
   "outputs": [],
   "source": [
    "delta = 0.0001\n",
    "results_matrix = calculate_lb_comparison_matrix(delta)"
   ]
  },
  {
   "cell_type": "code",
   "execution_count": null,
   "id": "7876e153-e30a-4755-9a14-ae3e45024531",
   "metadata": {},
   "outputs": [],
   "source": []
  }
 ],
 "metadata": {
  "kernelspec": {
   "display_name": "Julia 1.8.3",
   "language": "julia",
   "name": "julia-1.8"
  },
  "language_info": {
   "file_extension": ".jl",
   "mimetype": "application/julia",
   "name": "julia",
   "version": "1.8.3"
  }
 },
 "nbformat": 4,
 "nbformat_minor": 5
}
